{
 "cells": [
  {
   "cell_type": "code",
   "execution_count": 1,
   "id": "bcc1a5ce",
   "metadata": {},
   "outputs": [],
   "source": [
    "#Importing libraries\n",
    "import numpy as np\n",
    "import pandas as pd\n",
    "import pickle\n",
    "\n",
    "from sklearn.feature_extraction.text import TfidfVectorizer\n",
    "from sklearn.metrics.pairwise import linear_kernel\n",
    "from sklearn.cluster import MiniBatchKMeans"
   ]
  },
  {
   "cell_type": "code",
   "execution_count": 2,
   "id": "00001155",
   "metadata": {},
   "outputs": [],
   "source": [
    "#Read dataset\n",
    "X = pd.read_csv(\"/Users/queene/Desktop/DM/pubmed-diabetesme-set.csv\", sep=';', header=0)\n",
    "X = X[pd.isna(X['PMID'])==False]\n",
    "X = X[pd.isna(X['TI'])==False]\n",
    "X = X[pd.isna(X['AB'])==False]\n",
    "X = X[pd.isna(X['MH'])==False]"
   ]
  },
  {
   "cell_type": "code",
   "execution_count": 3,
   "id": "4713c641",
   "metadata": {},
   "outputs": [
    {
     "data": {
      "text/html": [
       "<div>\n",
       "<style scoped>\n",
       "    .dataframe tbody tr th:only-of-type {\n",
       "        vertical-align: middle;\n",
       "    }\n",
       "\n",
       "    .dataframe tbody tr th {\n",
       "        vertical-align: top;\n",
       "    }\n",
       "\n",
       "    .dataframe thead th {\n",
       "        text-align: right;\n",
       "    }\n",
       "</style>\n",
       "<table border=\"1\" class=\"dataframe\">\n",
       "  <thead>\n",
       "    <tr style=\"text-align: right;\">\n",
       "      <th></th>\n",
       "      <th>PMID</th>\n",
       "      <th>DP</th>\n",
       "      <th>TI</th>\n",
       "      <th>AB</th>\n",
       "      <th>MH</th>\n",
       "    </tr>\n",
       "  </thead>\n",
       "  <tbody>\n",
       "    <tr>\n",
       "      <th>0</th>\n",
       "      <td>27080137</td>\n",
       "      <td>2016 Jun</td>\n",
       "      <td>Diabetes mellitus and its complications in India.</td>\n",
       "      <td>India is one of the epicentres of the global d...</td>\n",
       "      <td>Developing Countries, Diabetes Complications/*...</td>\n",
       "    </tr>\n",
       "    <tr>\n",
       "      <th>1</th>\n",
       "      <td>9803200</td>\n",
       "      <td>1998 Oct 15</td>\n",
       "      <td>Diagnosis and classification of diabetes melli...</td>\n",
       "      <td>New recommendations for the classification and...</td>\n",
       "      <td>Blood Glucose/metabolism, Diabetes Mellitus/bl...</td>\n",
       "    </tr>\n",
       "    <tr>\n",
       "      <th>2</th>\n",
       "      <td>15137354</td>\n",
       "      <td>2004 Apr-Jun</td>\n",
       "      <td>Pathophysiology of diabetes mellitus.</td>\n",
       "      <td>As we learn more about the pathophysiology of ...</td>\n",
       "      <td>Diabetes Mellitus, Type 1/complications/*metab...</td>\n",
       "    </tr>\n",
       "  </tbody>\n",
       "</table>\n",
       "</div>"
      ],
      "text/plain": [
       "       PMID            DP                                                 TI  \\\n",
       "0  27080137      2016 Jun  Diabetes mellitus and its complications in India.   \n",
       "1   9803200   1998 Oct 15  Diagnosis and classification of diabetes melli...   \n",
       "2  15137354  2004 Apr-Jun              Pathophysiology of diabetes mellitus.   \n",
       "\n",
       "                                                  AB  \\\n",
       "0  India is one of the epicentres of the global d...   \n",
       "1  New recommendations for the classification and...   \n",
       "2  As we learn more about the pathophysiology of ...   \n",
       "\n",
       "                                                  MH  \n",
       "0  Developing Countries, Diabetes Complications/*...  \n",
       "1  Blood Glucose/metabolism, Diabetes Mellitus/bl...  \n",
       "2  Diabetes Mellitus, Type 1/complications/*metab...  "
      ]
     },
     "execution_count": 3,
     "metadata": {},
     "output_type": "execute_result"
    }
   ],
   "source": [
    "#Preview the file \n",
    "X.head(3)"
   ]
  },
  {
   "cell_type": "code",
   "execution_count": 4,
   "id": "73117fe4",
   "metadata": {},
   "outputs": [],
   "source": [
    "#FEATURE 2: Article Ranking using Cosine Similarity \n",
    "\n",
    "#TFIDF Calculation\n",
    "text_abstract = X['AB']\n",
    "vector = TfidfVectorizer(max_df=0.3,               # Drop words occuring more than X percent of articles \n",
    "                             min_df=8,             # Only use words appear at least X times\n",
    "                             stop_words='english', # Remove stop words\n",
    "                             lowercase=True,       # Convert to lowercase \n",
    "                             use_idf=True,         # Use idf\n",
    "                             norm=u'l2',           # Normalization\n",
    "                             smooth_idf=True       # Prevents divide-by-zero errors\n",
    "                            )\n",
    "\n",
    "tfidf = vector.fit_transform(text_abstract)"
   ]
  },
  {
   "cell_type": "code",
   "execution_count": 5,
   "id": "c5baed1f",
   "metadata": {},
   "outputs": [],
   "source": [
    "#Search Function \n",
    "# Request function : search the top_n articles from a request ( request = string)\n",
    "def search(tfidf_matrix,model,request, top_n = 5):\n",
    "    request_transform = model.transform([request])\n",
    "    similarity = np.dot(request_transform,np.transpose(tfidf_matrix))\n",
    "    x = np.array(similarity.toarray()[0])\n",
    "    indices=np.argsort(x)[-5:][::-1]\n",
    "    return indices\n",
    "\n",
    "# Find similar : get the top_n articles similar to an article \n",
    "def find_similar(tfidf_matrix, index, top_n = 5):\n",
    "    cosine_similarities = linear_kernel(tfidf_matrix[index:index+1], tfidf_matrix).flatten()\n",
    "    related_docs_indices = [i for i in cosine_similarities.argsort()[::-1] if i != index]\n",
    "    return [index for index in related_docs_indices][0:top_n]    \n",
    "\n",
    "# Print the result\n",
    "def print_result(request_content,indices,X):\n",
    "    print('\\nSearch : ' + request_content)\n",
    "    print('\\nBest Results :')\n",
    "    for i in indices:\n",
    "        print('Index = {0:5d} - Title = {1}'.format(i,X['TI'].loc[i]))\n",
    "        "
   ]
  },
  {
   "cell_type": "code",
   "execution_count": 6,
   "id": "67f3d4bc",
   "metadata": {},
   "outputs": [
    {
     "name": "stdout",
     "output_type": "stream",
     "text": [
      "\n",
      "Search : 04 - Abstract = Diabetes mellitus occurs commonly in the older patient and is frequently undiagnosed. In many cases, the initial manifestations of diabetes mellitus are lower extremity complications with which this disease is known to be associated. Unfortunately, these complications are similar to other age-related degenerative processes; therefore, vigilance for the detection of undiagnosed diabetes mellitus is essential in the evaluation and treatment of lower extremity pathologic conditions.\n",
      "\n",
      "Best Results :\n",
      "Index =    26 - Title = [Post-transplantational diabetes mellitus].\n",
      "Index =    49 - Title = [Diabetes mellitus: from clinical knowledge to public health concern].\n",
      "Index =    36 - Title = Diabetes: an overview.\n",
      "Index =    45 - Title = [Diabetes mellitus: current classification based on cause and sharpened blood\n",
      "Index =    38 - Title = Personalized medicine in diabetes.\n"
     ]
    }
   ],
   "source": [
    "#Similar articles \n",
    "index = 1\n",
    "result = find_similar(tfidf, index, top_n = 5)\n",
    "print_result('04 - Abstract = Diabetes mellitus occurs commonly in the older patient and is frequently undiagnosed. In many cases, the initial manifestations of diabetes mellitus are lower extremity complications with which this disease is known to be associated. Unfortunately, these complications are similar to other age-related degenerative processes; therefore, vigilance for the detection of undiagnosed diabetes mellitus is essential in the evaluation and treatment of lower extremity pathologic conditions.',result,X)"
   ]
  },
  {
   "cell_type": "code",
   "execution_count": null,
   "id": "8596bd3c",
   "metadata": {},
   "outputs": [],
   "source": [
    "#FEATURE 1: MeSH Recommendation "
   ]
  }
 ],
 "metadata": {
  "kernelspec": {
   "display_name": "Python 3 (ipykernel)",
   "language": "python",
   "name": "python3"
  },
  "language_info": {
   "codemirror_mode": {
    "name": "ipython",
    "version": 3
   },
   "file_extension": ".py",
   "mimetype": "text/x-python",
   "name": "python",
   "nbconvert_exporter": "python",
   "pygments_lexer": "ipython3",
   "version": "3.9.7"
  }
 },
 "nbformat": 4,
 "nbformat_minor": 5
}
